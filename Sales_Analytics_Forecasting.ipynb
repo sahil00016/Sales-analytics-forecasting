{
 "cells": [
  {
   "cell_type": "markdown",
   "id": "f72f4c10",
   "metadata": {},
   "source": [
    "# Sales Analytics & Forecasting Project\n",
    "This notebook covers ETL, data transformation, forecasting, and export for Power BI."
   ]
  },
  {
   "cell_type": "code",
   "execution_count": null,
   "id": "e7c876ad",
   "metadata": {},
   "outputs": [],
   "source": [
    "# Import required libraries\n",
    "import pandas as pd\n",
    "import matplotlib.pyplot as plt\n",
    "from prophet import Prophet"
   ]
  },
  {
   "cell_type": "markdown",
   "id": "70a3ae1e",
   "metadata": {},
   "source": [
    "## Load and Preview Data\n",
    "Download 'train.csv' from Kaggle and place it in the same folder as this notebook."
   ]
  },
  {
   "cell_type": "code",
   "execution_count": null,
   "id": "cbb3fa9e",
   "metadata": {},
   "outputs": [],
   "source": [
    "df = pd.read_csv('train.csv')\n",
    "df.head()"
   ]
  },
  {
   "cell_type": "markdown",
   "id": "45654b5b",
   "metadata": {},
   "source": [
    "## Data Transformation\n",
    "Aggregate sales by store and by month."
   ]
  },
  {
   "cell_type": "code",
   "execution_count": null,
   "id": "52d2bba2",
   "metadata": {},
   "outputs": [],
   "source": [
    "# Total sales per store\n",
    "store_sales = df.groupby('Store')['Weekly_Sales'].sum().reset_index()\n",
    "store_sales.to_csv('store_sales.csv', index=False)\n",
    "store_sales.head()"
   ]
  },
  {
   "cell_type": "code",
   "execution_count": null,
   "id": "30986834",
   "metadata": {},
   "outputs": [],
   "source": [
    "# Monthly sales trend\n",
    "df['Date'] = pd.to_datetime(df['Date'])\n",
    "df['Month'] = df['Date'].dt.to_period('M')\n",
    "monthly_sales = df.groupby('Month')['Weekly_Sales'].sum().reset_index()\n",
    "monthly_sales.to_csv('monthly_sales.csv', index=False)\n",
    "monthly_sales.head()"
   ]
  },
  {
   "cell_type": "markdown",
   "id": "37549d35",
   "metadata": {},
   "source": [
    "## Forecasting with Prophet\n",
    "Forecast next 3 months of sales."
   ]
  },
  {
   "cell_type": "code",
   "execution_count": null,
   "id": "e63f864c",
   "metadata": {},
   "outputs": [],
   "source": [
    "# Prepare data for Prophet\n",
    "sales_df = df[['Date', 'Weekly_Sales']].rename(columns={'Date': 'ds', 'Weekly_Sales': 'y'})\n",
    "model = Prophet()\n",
    "model.fit(sales_df)\n",
    "future = model.make_future_dataframe(periods=90)\n",
    "forecast = model.predict(future)\n",
    "forecast[['ds', 'yhat']].to_csv('sales_forecast.csv', index=False)\n",
    "forecast[['ds', 'yhat']].head()"
   ]
  },
  {
   "cell_type": "markdown",
   "id": "38cc06ca",
   "metadata": {},
   "source": [
    "## Visualization (Optional in Python)\n",
    "You can use Power BI for interactive dashboards, or plot quick charts below."
   ]
  },
  {
   "cell_type": "code",
   "execution_count": null,
   "id": "c694e051",
   "metadata": {},
   "outputs": [],
   "source": [
    "# Plot monthly sales trend\n",
    "plt.figure(figsize=(10,5))\n",
    "plt.plot(monthly_sales['Month'].astype(str), monthly_sales['Weekly_Sales'])\n",
    "plt.title('Monthly Sales Trend')\n",
    "plt.xlabel('Month')\n",
    "plt.ylabel('Total Sales')\n",
    "plt.xticks(rotation=45)\n",
    "plt.tight_layout()\n",
    "plt.show()"
   ]
  },
  {
   "cell_type": "markdown",
   "id": "8e47cd13",
   "metadata": {},
   "source": [
    "## Export for Power BI\n",
    "Use the generated CSVs (`store_sales.csv`, `monthly_sales.csv`, `sales_forecast.csv`) in Power BI to create dashboards."
   ]
  }
 ],
 "metadata": {
  "language_info": {
   "name": "python"
  }
 },
 "nbformat": 4,
 "nbformat_minor": 5
}
